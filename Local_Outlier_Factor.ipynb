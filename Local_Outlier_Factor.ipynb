{
  "nbformat": 4,
  "nbformat_minor": 0,
  "metadata": {
    "colab": {
      "name": "Local Outlier Factor.ipynb",
      "provenance": [],
      "include_colab_link": true
    },
    "kernelspec": {
      "name": "python3",
      "display_name": "Python 3"
    },
    "language_info": {
      "name": "python"
    }
  },
  "cells": [
    {
      "cell_type": "markdown",
      "metadata": {
        "id": "view-in-github",
        "colab_type": "text"
      },
      "source": [
        "<a href=\"https://colab.research.google.com/github/DLPY/Unsupervised-Learning-Session-2/blob/main/Local_Outlier_Factor.ipynb\" target=\"_parent\"><img src=\"https://colab.research.google.com/assets/colab-badge.svg\" alt=\"Open In Colab\"/></a>"
      ]
    },
    {
      "cell_type": "markdown",
      "source": [
        "# Statistical Approach to Outlier Detection: Box Plots"
      ],
      "metadata": {
        "id": "l2eBH9Ee_DGw"
      }
    },
    {
      "cell_type": "code",
      "source": [
        "import seaborn as sns\n",
        "import random\n",
        "import pandas as pd\n",
        "import matplotlib.pyplot as plt\n",
        "\n",
        "%matplotlib inline"
      ],
      "metadata": {
        "id": "7rAJiZGrYShV"
      },
      "execution_count": null,
      "outputs": []
    },
    {
      "cell_type": "code",
      "source": [
        "df = pd.read_csv('https://raw.githubusercontent.com/DLPY/Unsupervised-Learning-Session-2/main/bikerental.csv')"
      ],
      "metadata": {
        "id": "KM5z63vHYd_T"
      },
      "execution_count": null,
      "outputs": []
    },
    {
      "cell_type": "markdown",
      "source": [
        "- **instant**: record index\n",
        "- **dteday** : date\n",
        "- **season** : season (1:winter, 2:spring, 3:summer, 4:fall)\n",
        "- **yr** : year (0: 2011, 1:2012)\n",
        "- **mnth** : month ( 1 to 12)\n",
        "- **hr** : hour (0 to 23)\n",
        "- **holiday** : weather day is holiday or not \n",
        "- **weekday** : day of the week\n",
        "- **workingday** : if day is neither weekend nor holiday is 1, otherwise is 0.\n",
        "+ **weathersit** :\n",
        "1: Clear, Few clouds, Partly cloudy, Partly cloudy\n",
        "2: Mist + Cloudy, Mist + Broken clouds, Mist + Few clouds, Mist\n",
        "3: Light Snow, Light Rain + Thunderstorm + Scattered clouds, Light Rain + Scattered clouds\n",
        "4: Heavy Rain + Ice Pallets + Thunderstorm + Mist, Snow + Fog\n",
        "- **temp** : Normalized temperature in Celsius. The values are derived via (t-t_min)/(t_max-t_min), t_min=-8, t_max=+39 (only in hourly scale)\n",
        "- **atemp**: Normalized feeling temperature in Celsius. The values are derived via (t-t_min)/(t_max-t_min), t_min=-16, t_max=+50 (only in hourly scale)\n",
        "- **hum**: Normalized humidity. The values are divided to 100 (max)\n",
        "- **windspeed**: Normalized wind speed. The values are divided to 67 (max)\n",
        "- **casual**: count of casual users\n",
        "- **registered**: count of registered users\n",
        "- **cnt**: count of total rental bikes including both casual and registered"
      ],
      "metadata": {
        "id": "qqbSaYaU_ND2"
      }
    },
    {
      "cell_type": "markdown",
      "source": [
        "**Display descriptive statistics for the dataframe**"
      ],
      "metadata": {
        "id": "l1UMK2DP27r5"
      }
    },
    {
      "cell_type": "code",
      "source": [
        "df.describe()"
      ],
      "metadata": {
        "id": "Z9UCvRILYmry"
      },
      "execution_count": null,
      "outputs": []
    },
    {
      "cell_type": "markdown",
      "source": [
        "**Display first 5 rows of the dataframe**"
      ],
      "metadata": {
        "id": "irPTwatG3cUK"
      }
    },
    {
      "cell_type": "code",
      "source": [
        "df.head()"
      ],
      "metadata": {
        "id": "8Zicur5SYuZo"
      },
      "execution_count": null,
      "outputs": []
    },
    {
      "cell_type": "markdown",
      "source": [
        "**Generate the box plots for the attributes**: \n",
        "*   **windspeed**: wind speed\n",
        "*   **hum**: relative humidity\n",
        "*   **casual**: number of non-registered user rentals generated\n"
      ],
      "metadata": {
        "id": "qzQ1xApD4Erx"
      }
    },
    {
      "cell_type": "code",
      "source": [
        "sns.set_palette(\"bone_r\")\n",
        "f , axes = plt.subplots(nrows=1, ncols=3, figsize = (20,8))\n",
        "sns.set_style(\"darkgrid\")\n",
        "\n",
        "fig1 = sns.boxplot(y= df.windspeed, ax = axes[0] )\n",
        "fig2 = sns.boxplot(y= df.hum, ax = axes[1] )\n",
        "fig3 = sns.boxplot(y=df.casual, ax = axes[2] )\n",
        "plt.show()"
      ],
      "metadata": {
        "id": "COY-C9GAYyfW"
      },
      "execution_count": null,
      "outputs": []
    },
    {
      "cell_type": "markdown",
      "source": [
        "**For the attribute windspeed, calculate the value of Lower Quartile(Q1)**"
      ],
      "metadata": {
        "id": "o4DbfbBl7AAX"
      }
    },
    {
      "cell_type": "code",
      "source": [
        "df.windspeed.quantile(.25)"
      ],
      "metadata": {
        "id": "QJOUZ32yY-5J"
      },
      "execution_count": null,
      "outputs": []
    },
    {
      "cell_type": "markdown",
      "source": [
        "**For windspeed, calculate the Interquartile range(Q3-Q1)**"
      ],
      "metadata": {
        "id": "SMAkrAm17PpT"
      }
    },
    {
      "cell_type": "code",
      "source": [
        "IQR = df.windspeed.quantile(.75) - df.windspeed.quantile(.25)\n",
        "IQR"
      ],
      "metadata": {
        "id": "nsWz5p4HZBhg"
      },
      "execution_count": null,
      "outputs": []
    },
    {
      "cell_type": "markdown",
      "source": [
        "**Calculate the whisker(1.5* IQR) for attribute:windspeed**"
      ],
      "metadata": {
        "id": "CON8iXNYAc1A"
      }
    },
    {
      "cell_type": "code",
      "source": [
        "whisker  = (df.windspeed.quantile(.75) - df.windspeed.quantile(.25)) * 1.5\n",
        "whisker"
      ],
      "metadata": {
        "id": "WULvcGTSZJSa"
      },
      "execution_count": null,
      "outputs": []
    },
    {
      "cell_type": "markdown",
      "source": [
        "**Calculate the Lower and Upper Range for windspeed,beyond which any point would be classified as an outlier**"
      ],
      "metadata": {
        "id": "3PgtefzICNMr"
      }
    },
    {
      "cell_type": "code",
      "source": [
        "lower_range = df.windspeed.quantile(.25) - whisker \n",
        "upper_range = df.windspeed.quantile(.75) + whisker "
      ],
      "metadata": {
        "id": "VS7-vUhWZVr1"
      },
      "execution_count": null,
      "outputs": []
    },
    {
      "cell_type": "markdown",
      "source": [
        "**Print the data points that lie beyond the lower and upper range: Outliers**"
      ],
      "metadata": {
        "id": "9BntkTbRCs-o"
      }
    },
    {
      "cell_type": "code",
      "source": [
        "df.query('windspeed > @upper_range | windspeed < @lower_range' )"
      ],
      "metadata": {
        "id": "-m5rIGOXZaqo"
      },
      "execution_count": null,
      "outputs": []
    },
    {
      "cell_type": "markdown",
      "source": [
        "**Define a function** *findoutliers* **for finding out the outliers for other attributes as well**"
      ],
      "metadata": {
        "id": "vaDrEVV8C6mg"
      }
    },
    {
      "cell_type": "code",
      "source": [
        "def findoutliers(col):\n",
        "  whisker  = (col.quantile(.75) - col.quantile(.25)) * 1.5\n",
        "  lower_range = col.quantile(.25) - whisker \n",
        "  upper_range = col.quantile(.75) + whisker\n",
        "  return df.query('@col > @upper_range | @col < @lower_range')"
      ],
      "metadata": {
        "id": "bxbWP45gZgv8"
      },
      "execution_count": null,
      "outputs": []
    },
    {
      "cell_type": "markdown",
      "source": [
        "**Print the ouliers for the attribute hum**"
      ],
      "metadata": {
        "id": "zmm_4Z-FDM2b"
      }
    },
    {
      "cell_type": "code",
      "source": [
        "findoutliers(df.hum)"
      ],
      "metadata": {
        "id": "CMeE-TBmZliK"
      },
      "execution_count": null,
      "outputs": []
    },
    {
      "cell_type": "markdown",
      "source": [
        "**Print the outliers for the attribute casual**"
      ],
      "metadata": {
        "id": "c10XbY24D0IR"
      }
    },
    {
      "cell_type": "code",
      "source": [
        "cas = findoutliers(df.casual)"
      ],
      "metadata": {
        "id": "okr6EBGGZqCp"
      },
      "execution_count": null,
      "outputs": []
    },
    {
      "cell_type": "code",
      "source": [
        "cas"
      ],
      "metadata": {
        "id": "OBsOzAnLZw2Q"
      },
      "execution_count": null,
      "outputs": []
    },
    {
      "cell_type": "markdown",
      "source": [
        "**Analysing the Outliers for Casual Rental**"
      ],
      "metadata": {
        "id": "l-BXeLKWGeA9"
      }
    },
    {
      "cell_type": "markdown",
      "source": [
        "Generate box plots for Casual rental by season"
      ],
      "metadata": {
        "id": "HGCeWnZ7GH0L"
      }
    },
    {
      "cell_type": "code",
      "source": [
        "sns.set_palette(\"Paired\")\n",
        "ax = sns.boxplot(x=\"season\", y =\"casual\",data = df)\n",
        "plt.rcParams[\"figure.figsize\"]=(9,6.5)\n",
        "plt.title('Casual Rentals by Season')\n",
        "plt.show()"
      ],
      "metadata": {
        "id": "tMN0O7V4Z4Fo"
      },
      "execution_count": null,
      "outputs": []
    },
    {
      "cell_type": "markdown",
      "source": [
        "Generate boxplots for casual rental by month"
      ],
      "metadata": {
        "id": "kfplfwHFGQBJ"
      }
    },
    {
      "cell_type": "code",
      "source": [
        "sns.set_palette(\"Paired\")\n",
        "ax = sns.boxplot(x=\"mnth\", y =\"casual\",data = df)\n",
        "plt.rcParams[\"figure.figsize\"]=(9,6.5)\n",
        "plt.title('Casual Rentals by Month')\n",
        "plt.show()"
      ],
      "metadata": {
        "id": "4tIt9hjnZ95D"
      },
      "execution_count": null,
      "outputs": []
    },
    {
      "cell_type": "markdown",
      "source": [
        "Generate boxplots for Casual rentals by weekday"
      ],
      "metadata": {
        "id": "Qrqd-0RWGmxq"
      }
    },
    {
      "cell_type": "code",
      "source": [
        "sns.set_palette(\"Paired\")\n",
        "ax = sns.boxplot(x=\"weekday\", y =\"casual\",data = df)\n",
        "plt.rcParams[\"figure.figsize\"]=(9,6.5)\n",
        "plt.title('Casual Renatals by Weekday')\n",
        "plt.show()"
      ],
      "metadata": {
        "id": "29sC_CGbaC7u"
      },
      "execution_count": null,
      "outputs": []
    },
    {
      "cell_type": "code",
      "source": [
        "sns.set_palette(\"Paired\")\n",
        "ax = sns.boxplot(x=\"weekday\", y =\"casual\", hue ='holiday',data = df)\n",
        "plt.rcParams[\"figure.figsize\"]=(9,6.5)\n",
        "plt.title('Casual Renatals by Weekday')\n",
        "plt.legend(loc='upper right')\n",
        "plt.show()"
      ],
      "metadata": {
        "id": "j4hHfzcGaJHg"
      },
      "execution_count": null,
      "outputs": []
    },
    {
      "cell_type": "markdown",
      "source": [
        "# **Local Outlier Factor**"
      ],
      "metadata": {
        "id": "WEuUhPJ2MfKc"
      }
    },
    {
      "cell_type": "markdown",
      "source": [
        "**Generate Train data and Outliers**"
      ],
      "metadata": {
        "id": "P4GK2-EaQC3S"
      }
    },
    {
      "cell_type": "code",
      "source": [
        "# Importing the libraries\n",
        "import random\n",
        "import pandas as pd\n",
        "\n",
        "pct = [.01,.08,.12]\n",
        "amounts = [1000, 2000, 3000]\n",
        "charges = pd.DataFrame()\n",
        "\n",
        "# Generate Train Data\n",
        "for i in range(0, 1000):\n",
        "  amount = random.choice(amounts) * (random.uniform(.95, 1.05))\n",
        "  bank_charge = amount * .04 * (random.uniform(.95, 1.05))\n",
        "  linedict = {'Amount': [amount], 'Charge':[bank_charge]}\n",
        "  line = pd.DataFrame(linedict)\n",
        "  charges = pd.concat([charges, line])\n",
        "\n",
        "# Generate Outliers\n",
        "for i in range(0, 10):\n",
        "  amount = random.choice(amounts) * (random.uniform(.95, 1.05))\n",
        "  bank_charge = amount * random.choice(pct) * (random.uniform(.95, 1.05))\n",
        "  linedict = {'Amount': [amount], 'Charge':[bank_charge]}\n",
        "  line = pd.DataFrame(linedict)\n",
        "  charges = pd.concat([charges, line])"
      ],
      "metadata": {
        "id": "xlnPkGURlaC1"
      },
      "execution_count": null,
      "outputs": []
    },
    {
      "cell_type": "markdown",
      "source": [
        "**Display first 10 rows**"
      ],
      "metadata": {
        "id": "c3GaqbxP1qEL"
      }
    },
    {
      "cell_type": "code",
      "source": [
        "charges.head(10)"
      ],
      "metadata": {
        "id": "pRt8k3PRt5yN"
      },
      "execution_count": null,
      "outputs": []
    },
    {
      "cell_type": "markdown",
      "source": [
        "**Display Bottom 10 rows**"
      ],
      "metadata": {
        "id": "tAYMNnNx1uUk"
      }
    },
    {
      "cell_type": "code",
      "source": [
        "charges.tail(10)"
      ],
      "metadata": {
        "id": "AOe4Tn6qhUeP"
      },
      "execution_count": null,
      "outputs": []
    },
    {
      "cell_type": "markdown",
      "source": [
        "**Fit the model for outlier detection** "
      ],
      "metadata": {
        "id": "2thwaX4VTfg6"
      }
    },
    {
      "cell_type": "code",
      "source": [
        "import numpy as np\n",
        "from sklearn.neighbors import LocalOutlierFactor\n",
        "# Select the number of neighbors and fit the model\n",
        "clf = LocalOutlierFactor(n_neighbors=30)\n",
        "normalized_df=(charges-charges.mean())/charges.std()\n",
        "\n",
        "# use fit_predict to compute the predicted labels of the training samples\n",
        "clf.fit_predict(normalized_df)\n",
        "results = clf.negative_outlier_factor_\n",
        "charges['LOF'] = results.tolist()\n",
        "charges['PCT'] = charges['Charge'] / charges['Amount']"
      ],
      "metadata": {
        "id": "PsljfQOGvjfq"
      },
      "execution_count": null,
      "outputs": []
    },
    {
      "cell_type": "markdown",
      "source": [
        "**Visualize the results on a Scatter Plot**"
      ],
      "metadata": {
        "id": "lowJRxzXPz_h"
      }
    },
    {
      "cell_type": "code",
      "source": [
        "import matplotlib.pyplot as plt\n",
        "plt.rcParams[\"figure.figsize\"]=(9,6.5)\n",
        "#Generating all the datapoints on the Scatter Plot\n",
        "plt.scatter(charges.Amount, charges.Charge, c='black', s=charges.LOF * -1,label=\"Data Points\")\n",
        "#Filtering datapoints for which LOF>-2\n",
        "charges2 = charges.copy()\n",
        "charges2['LOF'].loc[(charges['LOF'] > -2)] = 0\n",
        "results[results>-2] = 0\n",
        "#Calculating the radius for the outlier circles\n",
        "radius = (results.max() - results) / (results.max() - results.min())\n",
        "#Generating circles for the outliers on the scatter plot\n",
        "plt.scatter(charges2.Amount, charges2.Charge, s=500 * radius,edgecolors=\"r\",facecolors=\"none\",label=\"Outliers\",)\n",
        "legend = plt.legend(loc=\"upper left\")\n",
        "legend.legendHandles[0]._sizes = [10]\n",
        "legend.legendHandles[1]._sizes = [20]\n",
        "plt.show()\n"
      ],
      "metadata": {
        "id": "gJoBLkrLlZ61"
      },
      "execution_count": null,
      "outputs": []
    },
    {
      "cell_type": "markdown",
      "source": [
        "**Display rows with LOF<-1.5**"
      ],
      "metadata": {
        "id": "xJj3b4HS0tAB"
      }
    },
    {
      "cell_type": "code",
      "source": [
        "charges.query('LOF < -1.5')"
      ],
      "metadata": {
        "id": "2vD1dpO3lCyC"
      },
      "execution_count": null,
      "outputs": []
    }
  ]
}